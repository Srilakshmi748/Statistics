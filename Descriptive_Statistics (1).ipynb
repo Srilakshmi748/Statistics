{
 "cells": [
  {
   "cell_type": "markdown",
   "id": "ef59e0aa",
   "metadata": {},
   "source": [
    "## Why we need statistics ?\n",
    "* Statistics plays an important role in Data Analysis. It is a way to make conclusions from the data. To make better business descisions by  reviewing & analyszing the data. "
   ]
  },
  {
   "cell_type": "markdown",
   "id": "27ec1043",
   "metadata": {},
   "source": [
    "## Types Of Statistics :\n",
    "* Descriptive Statistics\n",
    "* Inferential Statistics"
   ]
  },
  {
   "cell_type": "markdown",
   "id": "79d45594",
   "metadata": {},
   "source": [
    "## Descriptive Statistics :\n",
    "* When someone gives you a well organized data set , you need to understand about the data set you will start describing the data set. Descriptive statistics is all about study of describing the data using statistical measures.\n",
    "* Under descriptive statistics we have,\n",
    "    * Measure of central tendency ( non-viz univariant analysis)\n",
    "    * Measure of dispersion ( non-viz univariant analysis )\n",
    "    * Measure of relationships (non-viz bivariant analysis )"
   ]
  },
  {
   "cell_type": "markdown",
   "id": "d9ac50d5",
   "metadata": {},
   "source": [
    "## Non-Visual Univariant Analysis "
   ]
  },
  {
   "cell_type": "markdown",
   "id": "1b557c1e",
   "metadata": {},
   "source": [
    "## Measure Of Central Tendency :\n",
    "* We use central tendancy to find out on average what are the values of a feature.\n",
    "* Under measure of central tendency we have\n",
    "     * Mean\n",
    "     * Median\n",
    "     * Mode"
   ]
  },
  {
   "cell_type": "markdown",
   "id": "2dc4bb98",
   "metadata": {},
   "source": [
    "### Mean :\n",
    "* mean = sum of onservations / total number of observations\n",
    "* we use mean for a numerical feature."
   ]
  },
  {
   "cell_type": "code",
   "execution_count": 6,
   "id": "742f45b5",
   "metadata": {},
   "outputs": [],
   "source": [
    "import pandas as pd"
   ]
  },
  {
   "cell_type": "code",
   "execution_count": 10,
   "id": "f90175c2",
   "metadata": {},
   "outputs": [],
   "source": [
    "iris = pd.read_csv(r\"C:\\Users\\Akula Srilakshmi\\Downloads\\Iris.csv\")"
   ]
  },
  {
   "cell_type": "code",
   "execution_count": 11,
   "id": "03691b4f",
   "metadata": {},
   "outputs": [
    {
     "data": {
      "text/html": [
       "<div>\n",
       "<style scoped>\n",
       "    .dataframe tbody tr th:only-of-type {\n",
       "        vertical-align: middle;\n",
       "    }\n",
       "\n",
       "    .dataframe tbody tr th {\n",
       "        vertical-align: top;\n",
       "    }\n",
       "\n",
       "    .dataframe thead th {\n",
       "        text-align: right;\n",
       "    }\n",
       "</style>\n",
       "<table border=\"1\" class=\"dataframe\">\n",
       "  <thead>\n",
       "    <tr style=\"text-align: right;\">\n",
       "      <th></th>\n",
       "      <th>Id</th>\n",
       "      <th>SepalLengthCm</th>\n",
       "      <th>SepalWidthCm</th>\n",
       "      <th>PetalLengthCm</th>\n",
       "      <th>PetalWidthCm</th>\n",
       "      <th>Species</th>\n",
       "    </tr>\n",
       "  </thead>\n",
       "  <tbody>\n",
       "    <tr>\n",
       "      <th>0</th>\n",
       "      <td>1</td>\n",
       "      <td>5.1</td>\n",
       "      <td>3.5</td>\n",
       "      <td>1.4</td>\n",
       "      <td>0.2</td>\n",
       "      <td>Iris-setosa</td>\n",
       "    </tr>\n",
       "    <tr>\n",
       "      <th>1</th>\n",
       "      <td>2</td>\n",
       "      <td>4.9</td>\n",
       "      <td>3.0</td>\n",
       "      <td>1.4</td>\n",
       "      <td>0.2</td>\n",
       "      <td>Iris-setosa</td>\n",
       "    </tr>\n",
       "    <tr>\n",
       "      <th>2</th>\n",
       "      <td>3</td>\n",
       "      <td>4.7</td>\n",
       "      <td>3.2</td>\n",
       "      <td>1.3</td>\n",
       "      <td>0.2</td>\n",
       "      <td>Iris-setosa</td>\n",
       "    </tr>\n",
       "    <tr>\n",
       "      <th>3</th>\n",
       "      <td>4</td>\n",
       "      <td>4.6</td>\n",
       "      <td>3.1</td>\n",
       "      <td>1.5</td>\n",
       "      <td>0.2</td>\n",
       "      <td>Iris-setosa</td>\n",
       "    </tr>\n",
       "    <tr>\n",
       "      <th>4</th>\n",
       "      <td>5</td>\n",
       "      <td>5.0</td>\n",
       "      <td>3.6</td>\n",
       "      <td>1.4</td>\n",
       "      <td>0.2</td>\n",
       "      <td>Iris-setosa</td>\n",
       "    </tr>\n",
       "    <tr>\n",
       "      <th>...</th>\n",
       "      <td>...</td>\n",
       "      <td>...</td>\n",
       "      <td>...</td>\n",
       "      <td>...</td>\n",
       "      <td>...</td>\n",
       "      <td>...</td>\n",
       "    </tr>\n",
       "    <tr>\n",
       "      <th>145</th>\n",
       "      <td>146</td>\n",
       "      <td>6.7</td>\n",
       "      <td>3.0</td>\n",
       "      <td>5.2</td>\n",
       "      <td>2.3</td>\n",
       "      <td>Iris-virginica</td>\n",
       "    </tr>\n",
       "    <tr>\n",
       "      <th>146</th>\n",
       "      <td>147</td>\n",
       "      <td>6.3</td>\n",
       "      <td>2.5</td>\n",
       "      <td>5.0</td>\n",
       "      <td>1.9</td>\n",
       "      <td>Iris-virginica</td>\n",
       "    </tr>\n",
       "    <tr>\n",
       "      <th>147</th>\n",
       "      <td>148</td>\n",
       "      <td>6.5</td>\n",
       "      <td>3.0</td>\n",
       "      <td>5.2</td>\n",
       "      <td>2.0</td>\n",
       "      <td>Iris-virginica</td>\n",
       "    </tr>\n",
       "    <tr>\n",
       "      <th>148</th>\n",
       "      <td>149</td>\n",
       "      <td>6.2</td>\n",
       "      <td>3.4</td>\n",
       "      <td>5.4</td>\n",
       "      <td>2.3</td>\n",
       "      <td>Iris-virginica</td>\n",
       "    </tr>\n",
       "    <tr>\n",
       "      <th>149</th>\n",
       "      <td>150</td>\n",
       "      <td>5.9</td>\n",
       "      <td>3.0</td>\n",
       "      <td>5.1</td>\n",
       "      <td>1.8</td>\n",
       "      <td>Iris-virginica</td>\n",
       "    </tr>\n",
       "  </tbody>\n",
       "</table>\n",
       "<p>150 rows × 6 columns</p>\n",
       "</div>"
      ],
      "text/plain": [
       "      Id  SepalLengthCm  SepalWidthCm  PetalLengthCm  PetalWidthCm  \\\n",
       "0      1            5.1           3.5            1.4           0.2   \n",
       "1      2            4.9           3.0            1.4           0.2   \n",
       "2      3            4.7           3.2            1.3           0.2   \n",
       "3      4            4.6           3.1            1.5           0.2   \n",
       "4      5            5.0           3.6            1.4           0.2   \n",
       "..   ...            ...           ...            ...           ...   \n",
       "145  146            6.7           3.0            5.2           2.3   \n",
       "146  147            6.3           2.5            5.0           1.9   \n",
       "147  148            6.5           3.0            5.2           2.0   \n",
       "148  149            6.2           3.4            5.4           2.3   \n",
       "149  150            5.9           3.0            5.1           1.8   \n",
       "\n",
       "            Species  \n",
       "0       Iris-setosa  \n",
       "1       Iris-setosa  \n",
       "2       Iris-setosa  \n",
       "3       Iris-setosa  \n",
       "4       Iris-setosa  \n",
       "..              ...  \n",
       "145  Iris-virginica  \n",
       "146  Iris-virginica  \n",
       "147  Iris-virginica  \n",
       "148  Iris-virginica  \n",
       "149  Iris-virginica  \n",
       "\n",
       "[150 rows x 6 columns]"
      ]
     },
     "execution_count": 11,
     "metadata": {},
     "output_type": "execute_result"
    }
   ],
   "source": [
    "iris"
   ]
  },
  {
   "cell_type": "code",
   "execution_count": 13,
   "id": "e8138058",
   "metadata": {},
   "outputs": [
    {
     "data": {
      "text/plain": [
       "5.843333333333335"
      ]
     },
     "execution_count": 13,
     "metadata": {},
     "output_type": "execute_result"
    }
   ],
   "source": [
    "iris[\"SepalLengthCm\"].mean() # on average what is the sepallength"
   ]
  },
  {
   "cell_type": "markdown",
   "id": "467da89e",
   "metadata": {},
   "source": [
    "### Median\n",
    "* we use median for a numerical feature.\n",
    "* if n=odd\n",
    "   * median = middle value\n",
    "* if n=even\n",
    "   * median =( (n/2)+((n/2)+1) )/ 2"
   ]
  },
  {
   "cell_type": "code",
   "execution_count": 15,
   "id": "740a969a",
   "metadata": {},
   "outputs": [
    {
     "data": {
      "text/plain": [
       "5.8"
      ]
     },
     "execution_count": 15,
     "metadata": {},
     "output_type": "execute_result"
    }
   ],
   "source": [
    "iris[\"SepalLengthCm\"].median() # on average what is the middele value"
   ]
  },
  {
   "cell_type": "markdown",
   "id": "da7fc9dd",
   "metadata": {},
   "source": [
    "### Mode \n",
    "* we apply mode for a categorical feature.\n",
    "* most occuring value"
   ]
  },
  {
   "cell_type": "code",
   "execution_count": 17,
   "id": "cb213fb0",
   "metadata": {},
   "outputs": [
    {
     "data": {
      "text/plain": [
       "Id                 int64\n",
       "SepalLengthCm    float64\n",
       "SepalWidthCm     float64\n",
       "PetalLengthCm    float64\n",
       "PetalWidthCm     float64\n",
       "Species           object\n",
       "dtype: object"
      ]
     },
     "execution_count": 17,
     "metadata": {},
     "output_type": "execute_result"
    }
   ],
   "source": [
    "iris.dtypes"
   ]
  },
  {
   "cell_type": "code",
   "execution_count": 20,
   "id": "73812c7a",
   "metadata": {},
   "outputs": [
    {
     "data": {
      "text/plain": [
       "Iris-setosa        50\n",
       "Iris-versicolor    50\n",
       "Iris-virginica     50\n",
       "Name: Species, dtype: int64"
      ]
     },
     "execution_count": 20,
     "metadata": {},
     "output_type": "execute_result"
    }
   ],
   "source": [
    "iris[\"Species\"].value_counts() "
   ]
  },
  {
   "cell_type": "markdown",
   "id": "90f147f2",
   "metadata": {},
   "source": [
    "## Measure of dispersion(spead):\n",
    "* It helps to understand how the data is spread around the central value.\n",
    "* under measure of dispersion we have\n",
    "    * Range\n",
    "    * IQR(Inter Quartile Range)\n",
    "    * Variance\n",
    "    * Standard deviatiom\n",
    "    * MAD(Mean Absolute deviation)"
   ]
  },
  {
   "cell_type": "markdown",
   "id": "018a4eb5",
   "metadata": {},
   "source": [
    "### Range\n",
    "* it tells about how much the data is distriuted\n",
    "* range = maximum value - minimum value."
   ]
  },
  {
   "cell_type": "code",
   "execution_count": 26,
   "id": "a6a8228d",
   "metadata": {},
   "outputs": [],
   "source": [
    "range = iris[\"PetalLengthCm\"].max() - iris[\"PetalLengthCm\"].min()"
   ]
  },
  {
   "cell_type": "code",
   "execution_count": 27,
   "id": "f5b9b145",
   "metadata": {},
   "outputs": [
    {
     "name": "stdout",
     "output_type": "stream",
     "text": [
      "5.9\n"
     ]
    }
   ],
   "source": [
    "print(range)"
   ]
  },
  {
   "cell_type": "markdown",
   "id": "e34c9e17",
   "metadata": {},
   "source": [
    "### IQR(Inter Quartile range)\n",
    "* To know the spread of middle half of the data because most of the data values lie in this range.larger values indicate the central portion of data.\n",
    "* Quartile-->4\n",
    "* IQR = 75th percentile - 25th percentile"
   ]
  },
  {
   "cell_type": "code",
   "execution_count": 30,
   "id": "c588e3a2",
   "metadata": {},
   "outputs": [
    {
     "data": {
      "text/plain": [
       "count    150.000000\n",
       "mean       3.758667\n",
       "std        1.764420\n",
       "min        1.000000\n",
       "25%        1.600000\n",
       "50%        4.350000\n",
       "75%        5.100000\n",
       "max        6.900000\n",
       "Name: PetalLengthCm, dtype: float64"
      ]
     },
     "execution_count": 30,
     "metadata": {},
     "output_type": "execute_result"
    }
   ],
   "source": [
    "iris[\"PetalLengthCm\"].describe()"
   ]
  },
  {
   "cell_type": "code",
   "execution_count": 32,
   "id": "3302e659",
   "metadata": {},
   "outputs": [],
   "source": [
    "import numpy as np"
   ]
  },
  {
   "cell_type": "code",
   "execution_count": 34,
   "id": "c179d486",
   "metadata": {},
   "outputs": [
    {
     "name": "stdout",
     "output_type": "stream",
     "text": [
      "1.6\n",
      "5.1\n"
     ]
    }
   ],
   "source": [
    "q1 ,q3 = np.percentile(iris[\"PetalLengthCm\"] ,[25 ,75])\n",
    "print(q1 , q3 , sep=\"\\n\")"
   ]
  },
  {
   "cell_type": "code",
   "execution_count": 36,
   "id": "4b2542fb",
   "metadata": {},
   "outputs": [
    {
     "name": "stdout",
     "output_type": "stream",
     "text": [
      "3.5\n"
     ]
    }
   ],
   "source": [
    "iqr = q3 - q1\n",
    "print(round(iqr , 2))"
   ]
  },
  {
   "cell_type": "markdown",
   "id": "158ced7c",
   "metadata": {},
   "source": [
    "### Variance\n",
    "* To know how far away each data point from mean(measure of central tendency).\n",
    "* On average what is the distance of each data point from mean."
   ]
  },
  {
   "cell_type": "code",
   "execution_count": 38,
   "id": "347f10a7",
   "metadata": {},
   "outputs": [
    {
     "data": {
      "text/plain": [
       "3.1131794183445156"
      ]
     },
     "execution_count": 38,
     "metadata": {},
     "output_type": "execute_result"
    }
   ],
   "source": [
    "iris[\"PetalLengthCm\"].var()"
   ]
  },
  {
   "cell_type": "markdown",
   "id": "e09b511f",
   "metadata": {},
   "source": [
    "### Standard Deviation\n",
    "* square of variance.\n",
    "* variance 7 standard deviation are used to know the spread of data around mean."
   ]
  },
  {
   "cell_type": "code",
   "execution_count": 48,
   "id": "6568eeb5",
   "metadata": {},
   "outputs": [
    {
     "data": {
      "text/plain": [
       "1.5619199999999989"
      ]
     },
     "execution_count": 48,
     "metadata": {},
     "output_type": "execute_result"
    }
   ],
   "source": [
    "iris[\"PetalLengthCm\"].mad()"
   ]
  },
  {
   "cell_type": "markdown",
   "id": "b0215dc0",
   "metadata": {},
   "source": [
    "## Measure Of Relationships(non-viz bivariant analysis):\n",
    "* To know the relationship between two features.how one feature is effecting the another feature etc..,\n",
    "* under measure of relationship we hace\n",
    "   * covariance\n",
    "   * pearson corelation coefficient"
   ]
  },
  {
   "cell_type": "markdown",
   "id": "f05c44f8",
   "metadata": {},
   "source": [
    "### Covariance(num,num):\n",
    "* Helps us understand the relationship between 2 features. if both the features are equal it becomes variance.\n",
    "* covariance range(-infinity , +infinity)\n",
    "* if sign is negative --> features are inversely proportional\n",
    "* if sign is positive --> features are directly proportional\n",
    "* it doesn't signify the strength of relationship"
   ]
  },
  {
   "cell_type": "code",
   "execution_count": 52,
   "id": "8011af9c",
   "metadata": {},
   "outputs": [
    {
     "data": {
      "text/html": [
       "<div>\n",
       "<style scoped>\n",
       "    .dataframe tbody tr th:only-of-type {\n",
       "        vertical-align: middle;\n",
       "    }\n",
       "\n",
       "    .dataframe tbody tr th {\n",
       "        vertical-align: top;\n",
       "    }\n",
       "\n",
       "    .dataframe thead th {\n",
       "        text-align: right;\n",
       "    }\n",
       "</style>\n",
       "<table border=\"1\" class=\"dataframe\">\n",
       "  <thead>\n",
       "    <tr style=\"text-align: right;\">\n",
       "      <th></th>\n",
       "      <th>Id</th>\n",
       "      <th>SepalLengthCm</th>\n",
       "      <th>SepalWidthCm</th>\n",
       "      <th>PetalLengthCm</th>\n",
       "      <th>PetalWidthCm</th>\n",
       "    </tr>\n",
       "  </thead>\n",
       "  <tbody>\n",
       "    <tr>\n",
       "      <th>Id</th>\n",
       "      <td>1887.500000</td>\n",
       "      <td>25.782886</td>\n",
       "      <td>-7.492282</td>\n",
       "      <td>67.667785</td>\n",
       "      <td>29.832215</td>\n",
       "    </tr>\n",
       "    <tr>\n",
       "      <th>SepalLengthCm</th>\n",
       "      <td>25.782886</td>\n",
       "      <td>0.685694</td>\n",
       "      <td>-0.039268</td>\n",
       "      <td>1.273682</td>\n",
       "      <td>0.516904</td>\n",
       "    </tr>\n",
       "    <tr>\n",
       "      <th>SepalWidthCm</th>\n",
       "      <td>-7.492282</td>\n",
       "      <td>-0.039268</td>\n",
       "      <td>0.188004</td>\n",
       "      <td>-0.321713</td>\n",
       "      <td>-0.117981</td>\n",
       "    </tr>\n",
       "    <tr>\n",
       "      <th>PetalLengthCm</th>\n",
       "      <td>67.667785</td>\n",
       "      <td>1.273682</td>\n",
       "      <td>-0.321713</td>\n",
       "      <td>3.113179</td>\n",
       "      <td>1.296387</td>\n",
       "    </tr>\n",
       "    <tr>\n",
       "      <th>PetalWidthCm</th>\n",
       "      <td>29.832215</td>\n",
       "      <td>0.516904</td>\n",
       "      <td>-0.117981</td>\n",
       "      <td>1.296387</td>\n",
       "      <td>0.582414</td>\n",
       "    </tr>\n",
       "  </tbody>\n",
       "</table>\n",
       "</div>"
      ],
      "text/plain": [
       "                        Id  SepalLengthCm  SepalWidthCm  PetalLengthCm  \\\n",
       "Id             1887.500000      25.782886     -7.492282      67.667785   \n",
       "SepalLengthCm    25.782886       0.685694     -0.039268       1.273682   \n",
       "SepalWidthCm     -7.492282      -0.039268      0.188004      -0.321713   \n",
       "PetalLengthCm    67.667785       1.273682     -0.321713       3.113179   \n",
       "PetalWidthCm     29.832215       0.516904     -0.117981       1.296387   \n",
       "\n",
       "               PetalWidthCm  \n",
       "Id                29.832215  \n",
       "SepalLengthCm      0.516904  \n",
       "SepalWidthCm      -0.117981  \n",
       "PetalLengthCm      1.296387  \n",
       "PetalWidthCm       0.582414  "
      ]
     },
     "execution_count": 52,
     "metadata": {},
     "output_type": "execute_result"
    }
   ],
   "source": [
    "iris.cov()"
   ]
  },
  {
   "cell_type": "markdown",
   "id": "e2b54af5",
   "metadata": {},
   "source": [
    "### Pearson Correlation Coefficient(num , num):\n",
    "* it signifies the strength of relationship\n",
    "* it it only captures the linear relationship between 2 features(num,num)\n",
    "* it can't understand rate of change\n",
    "* strength lies in between[0 to 1]\n",
    "* if 0 --> no relationship\n",
    "* if 0 to 0.5 --> weak relationship\n",
    "* if 0.5 to 1 --> strong relationship"
   ]
  },
  {
   "cell_type": "code",
   "execution_count": 57,
   "id": "c312ac84",
   "metadata": {},
   "outputs": [
    {
     "data": {
      "text/plain": [
       "0.8717541573048718"
      ]
     },
     "execution_count": 57,
     "metadata": {},
     "output_type": "execute_result"
    }
   ],
   "source": [
    "iris[\"PetalLengthCm\"].corr(iris[\"SepalLengthCm\"])"
   ]
  },
  {
   "cell_type": "code",
   "execution_count": null,
   "id": "3ca82495",
   "metadata": {},
   "outputs": [],
   "source": []
  },
  {
   "cell_type": "code",
   "execution_count": null,
   "id": "078d9ade",
   "metadata": {},
   "outputs": [],
   "source": []
  },
  {
   "cell_type": "code",
   "execution_count": null,
   "id": "a15295d7",
   "metadata": {},
   "outputs": [],
   "source": []
  }
 ],
 "metadata": {
  "kernelspec": {
   "display_name": "Python 3 (ipykernel)",
   "language": "python",
   "name": "python3"
  },
  "language_info": {
   "codemirror_mode": {
    "name": "ipython",
    "version": 3
   },
   "file_extension": ".py",
   "mimetype": "text/x-python",
   "name": "python",
   "nbconvert_exporter": "python",
   "pygments_lexer": "ipython3",
   "version": "3.9.13"
  }
 },
 "nbformat": 4,
 "nbformat_minor": 5
}
